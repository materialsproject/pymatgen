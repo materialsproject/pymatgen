{
 "cells": [
  {
   "cell_type": "markdown",
   "metadata": {},
   "source": [
    "#### This is the issue reproducing template for pymatgen."
   ]
  },
  {
   "cell_type": "code",
   "execution_count": 15,
   "metadata": {},
   "outputs": [
    {
     "name": "stdout",
     "output_type": "stream",
     "text": [
      "Current date: 2023-12-31 10:03:30.906917\n",
      "Python version: 3.10.13 (main, Dec  8 2023, 04:58:09) [GCC 9.4.0]\n",
      "pymatgen version: 2023.12.18\n"
     ]
    }
   ],
   "source": [
    "# Collect Python version, pymatgen version and current date\n",
    "from datetime import datetime\n",
    "import pymatgen.core\n",
    "import sys\n",
    "\n",
    "print(\"Current date:\", datetime.now())\n",
    "print(\"Python version:\", sys.version)\n",
    "print(\"pymatgen version:\", pymatgen.core.__version__)"
   ]
  },
  {
   "cell_type": "markdown",
   "metadata": {},
   "source": [
    "#### Then, your code to reproduce issue goes below"
   ]
  },
  {
   "cell_type": "code",
   "execution_count": 16,
   "metadata": {},
   "outputs": [
    {
     "name": "stdout",
     "output_type": "stream",
     "text": [
      "Full Formula (C1 O1)\n",
      "Reduced Formula: CO\n",
      "Charge = 0.0, Spin Mult = 1\n",
      "Sites (2)\n",
      "0 C     0.000000     0.000000     0.000000\n",
      "1 O     0.000000     0.000000     1.200000\n"
     ]
    }
   ],
   "source": [
    "# Your code to reproduce issue goes here, for example:\n",
    "from pymatgen.core.structure import Molecule\n",
    "\n",
    "c_monox = Molecule([\"C\",\"O\"], [[0.0, 0.0, 0.0], [0.0, 0.0, 1.2]])\n",
    "print(c_monox)"
   ]
  }
 ],
 "metadata": {
  "kernelspec": {
   "display_name": "Python 3",
   "language": "python",
   "name": "python3"
  },
  "language_info": {
   "codemirror_mode": {
    "name": "ipython",
    "version": 3
   },
   "file_extension": ".py",
   "mimetype": "text/x-python",
   "name": "python",
   "nbconvert_exporter": "python",
   "pygments_lexer": "ipython3",
   "version": "3.10.13"
  }
 },
 "nbformat": 4,
 "nbformat_minor": 2
}
