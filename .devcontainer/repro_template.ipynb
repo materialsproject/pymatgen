{
 "cells": [
  {
   "cell_type": "markdown",
   "metadata": {},
   "source": [
    "# This is the issue reproducing template for pymatgen.\n",
    "\n",
    "[Codespaces](https://docs.github.com/en/codespaces/overview) enable you to effortlessly reproduce and debug Pymatgen issues.\n",
    "\n",
    "- Skip the hassle of setting up the environment manually.\n",
    "- Streamlined information collection for a seamless reporting experience."
   ]
  },
  {
   "cell_type": "code",
   "execution_count": null,
   "metadata": {},
   "outputs": [],
   "source": [
    "# Collect Python version, pymatgen version and current date\n",
    "from datetime import datetime\n",
    "import pymatgen.core\n",
    "import sys\n",
    "\n",
    "print(\"Current date:\", datetime.now())\n",
    "print(\"Python version:\", sys.version)\n",
    "print(\"pymatgen version:\", pymatgen.core.__version__)"
   ]
  },
  {
   "cell_type": "markdown",
   "metadata": {},
   "source": [
    "# Then, your code to reproduce issue goes below"
   ]
  },
  {
   "cell_type": "code",
   "execution_count": null,
   "metadata": {},
   "outputs": [],
   "source": [
    "# Your code to reproduce issue goes here, for example:\n",
    "from pymatgen.core.structure import Molecule\n",
    "\n",
    "c_monox = Molecule([\"C\",\"O\"], [[0.0, 0.0, 0.0], [0.0, 0.0, 1.2]])\n",
    "print(c_monox)"
   ]
  },
  {
   "cell_type": "markdown",
   "metadata": {},
   "source": [
    "# That's it! Please share the code and outputs in GitHub issue."
   ]
  }
 ],
 "metadata": {
  "kernelspec": {
   "display_name": "Python 3",
   "language": "python",
   "name": "python3"
  },
  "language_info": {
   "codemirror_mode": {
    "name": "ipython",
    "version": 3
   },
   "file_extension": ".py",
   "mimetype": "text/x-python",
   "name": "python",
   "nbconvert_exporter": "python",
   "pygments_lexer": "ipython3",
   "version": "3.10.13"
  }
 },
 "nbformat": 4,
 "nbformat_minor": 2
}
