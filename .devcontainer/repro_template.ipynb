{
 "cells": [
  {
   "cell_type": "markdown",
   "metadata": {},
   "source": [
    "# `pymatgen` issue repro template\n",
    "\n",
    "[Codespaces](https://docs.github.com/codespaces/overview) enable you to effortlessly reproduce and debug Pymatgen issues.\n",
    "\n",
    "- Skip the hassle of environment setup\n",
    "- Streamline information collection for faster issue reports\n"
   ]
  },
  {
   "cell_type": "code",
   "execution_count": null,
   "metadata": {},
   "outputs": [],
   "source": [
    "# Collect Python version, pymatgen version and current date\n",
    "from __future__ import annotations\n",
    "\n",
    "import platform\n",
    "import sys\n",
    "from datetime import datetime\n",
    "from importlib.metadata import version\n",
    "\n",
    "print(f\"date: {datetime.today():%Y-%m-%d}\")\n",
    "print(f\"Python version: {sys.version.split()[0]}\")\n",
    "print(f\"pymatgen version: {version('pymatgen')}\")\n",
    "print(f\"OS: {platform.system()} {platform.release()}\")"
   ]
  },
  {
   "cell_type": "markdown",
   "metadata": {},
   "source": [
    "## Code to reproduce issue goes below\n"
   ]
  },
  {
   "cell_type": "code",
   "execution_count": null,
   "metadata": {},
   "outputs": [],
   "source": [
    "# Your code to reproduce issue goes here, for example:\n",
    "from pymatgen.core.structure import Molecule\n",
    "\n",
    "c_monox = Molecule([\"C\", \"O\"], [[0.0, 0.0, 0.0], [0.0, 0.0, 1.2]])\n",
    "print(c_monox)"
   ]
  },
  {
   "cell_type": "markdown",
   "metadata": {},
   "source": [
    "### Now share the code and outputs in a [new GitHub issue](https://github.com/materialsproject/pymatgen/issues/new?&labels=bug&template=bug_report.yaml)\n"
   ]
  }
 ],
 "metadata": {
  "kernelspec": {
   "display_name": "Python 3",
   "language": "python",
   "name": "python3"
  },
  "language_info": {
   "codemirror_mode": {
    "name": "ipython",
    "version": 3
   },
   "file_extension": ".py",
   "mimetype": "text/x-python",
   "name": "python",
   "nbconvert_exporter": "python",
   "pygments_lexer": "ipython3",
   "version": "3.11.6"
  }
 },
 "nbformat": 4,
 "nbformat_minor": 2
}
