{
 "cells": [
  {
   "cell_type": "code",
   "execution_count": null,
   "id": "8e09cccf-4335-4c59-bfa7-d3e3caeef404",
   "metadata": {},
   "outputs": [],
   "source": [
    "from pymatgen.io.aims.inputs import AimsGeometryIn, AimsCube, AimsControlIn\n",
    "from pymatgen.io.aims.outputs import AimsOutput\n",
    "\n",
    "from pymatgen.core import Structure, Lattice\n",
    "\n",
    "import numpy as np\n",
    "\n",
    "from pathlib import Path\n",
    "from subprocess import check_call\n"
   ]
  },
  {
   "cell_type": "code",
   "execution_count": null,
   "id": "536af143-f892-4549-86d7-ff426ba265ed",
   "metadata": {},
   "outputs": [],
   "source": [
    "# AIMS_CMD should be modified to match your system\n",
    "AIMS_CMD = \"aims.x\"\n",
    "AIMS_OUTPUT = \"aims.out\"\n",
    "AIMS_SD = \"species_dir\"\n",
    "AIMS_TEST_DIR = \"../../tests/io/aims/species_directory/light/\"\n"
   ]
  },
  {
   "cell_type": "code",
   "execution_count": null,
   "id": "4d8d9fda-af37-45eb-971c-56fed59f3a27",
   "metadata": {},
   "outputs": [],
   "source": [
    "# Create test structure\n",
    "structure = Structure(\n",
    "    lattice=Lattice(\n",
    "        np.array([[0, 2.715, 2.715],[2.715, 0, 2.715], [2.715, 2.715, 0]])\n",
    "    ),\n",
    "    species=[\"Si\", \"Si\"],\n",
    "    coords=np.array([np.zeros(3), np.ones(3) *  0.25])\n",
    ")\n"
   ]
  },
  {
   "cell_type": "code",
   "execution_count": null,
   "id": "8e67e134-84f8-4c35-afe4-87cd66e2e781",
   "metadata": {},
   "outputs": [],
   "source": [
    "# Create the geometry file from the structure\n",
    "geo_in = AimsGeometryIn.from_structure(structure)\n",
    "\n",
    "# Create the control.in file\n",
    "cont_in = AimsControlIn(\n",
    "    {\n",
    "        \"xc\": \"pw-lda\",\n",
    "        \"relax_geometry\": \"trm 0.01\",\n",
    "        \"relax_unit_cell\": \"full\",\n",
    "        \"species_dir\": AIMS_SD,\n",
    "    }\n",
    ")\n",
    "\n",
    "# Add new parameters as if AimsControl\n",
    "cont_in[\"k_grid\"] = [1, 1, 1]\n",
    "\n",
    "# Output options to control in automatically append the list\n",
    "cont_in[\"output\"] = \"hirshfeld\"\n",
    "cont_in[\"output\"] = [\"eigenvectors\"]\n",
    "\n",
    "# Cube file output controlled by the AimsCube class\n",
    "cont_in[\"cubes\"] = [\n",
    "    AimsCube(\"total_density\", origin=[0,0,0], points=[11, 11, 11]),\n",
    "    AimsCube(\"eigenstate_density 1\", origin=[0, 0, 0], points=[11, 11, 11]),\n",
    "]\n"
   ]
  },
  {
   "cell_type": "code",
   "execution_count": null,
   "id": "096337d6-871a-48dc-b4b3-a3c7c6fd812e",
   "metadata": {},
   "outputs": [],
   "source": [
    "# Write the input files\n",
    "workdir = Path.cwd() / \"workdir/\"\n",
    "workdir.mkdir(exist_ok=True)\n",
    "\n",
    "geo_in.write_file(workdir, overwrite=True)\n",
    "cont_in.write_file(structure, workdir, overwrite=True)\n"
   ]
  },
  {
   "cell_type": "code",
   "execution_count": null,
   "id": "c9994cd2-5e45-4071-ab87-b6b3e3af1174",
   "metadata": {},
   "outputs": [],
   "source": [
    "# Run the calculation\n",
    "with open(f\"{workdir}/{AIMS_OUTPUT}\", \"w\") as outfile:\n",
    "    aims_run = check_call([AIMS_CMD], cwd=workdir, stdout=outfile)\n"
   ]
  },
  {
   "cell_type": "code",
   "execution_count": null,
   "id": "0c42a6c6-bb45-472f-a2cb-190cdd922047",
   "metadata": {},
   "outputs": [],
   "source": [
    "# Read the aims output file and the final relaxed geometry\n",
    "outputs = AimsOutput.from_outfile(f\"{workdir}/{AIMS_OUTPUT}\")\n",
    "relaxed_structure = AimsGeometryIn.from_file(f\"{workdir}/geometry.in.next_step\")\n",
    "\n",
    "# Check the results\n",
    "assert outputs.get_results_for_image(-1).lattice == relaxed_structure.structure.lattice\n",
    "assert np.all(outputs.get_results_for_image(-1).frac_coords == relaxed_structure.structure.frac_coords)\n",
    "\n",
    "assert np.allclose(\n",
    "    outputs.get_results_for_image(-1).properties[\"stress\"],\n",
    "    outputs.stress\n",
    ")\n",
    "\n",
    "assert np.allclose(\n",
    "    outputs.get_results_for_image(-1).site_properties[\"force\"],\n",
    "    outputs.forces\n",
    ")\n"
   ]
  }
 ],
 "metadata": {
  "kernelspec": {
   "display_name": "Python 3 (ipykernel)",
   "language": "python",
   "name": "python3"
  },
  "language_info": {
   "codemirror_mode": {
    "name": "ipython",
    "version": 3
   },
   "file_extension": ".py",
   "mimetype": "text/x-python",
   "name": "python",
   "nbconvert_exporter": "python",
   "pygments_lexer": "ipython3",
   "version": "3.9.16"
  }
 },
 "nbformat": 4,
 "nbformat_minor": 5
}
