{
 "cells": [
  {
   "cell_type": "code",
   "execution_count": null,
   "id": "0",
   "metadata": {},
   "outputs": [],
   "source": [
    "from pathlib import Path\n",
    "from subprocess import check_call\n",
    "\n",
    "import numpy as np\n",
    "from numpy.testing import assert_allclose\n",
    "\n",
    "from pymatgen.core import Lattice, Structure\n",
    "from pymatgen.io.aims.inputs import AimsControlIn, AimsCube, AimsGeometryIn\n",
    "from pymatgen.io.aims.outputs import AimsOutput"
   ]
  },
  {
   "cell_type": "code",
   "execution_count": null,
   "id": "1",
   "metadata": {},
   "outputs": [],
   "source": [
    "# AIMS_CMD should be modified to match your system\n",
    "AIMS_CMD = \"aims.x\"\n",
    "AIMS_OUTPUT = \"aims.out\"\n",
    "AIMS_SD = \"species_dir\"\n",
    "AIMS_TEST_DIR = \"../../tests/io/aims/species_directory/light/\""
   ]
  },
  {
   "cell_type": "code",
   "execution_count": null,
   "id": "2",
   "metadata": {},
   "outputs": [],
   "source": [
    "# Create test structure\n",
    "structure = Structure(\n",
    "    lattice=Lattice(np.array([[0, 2.715, 2.715], [2.715, 0, 2.715], [2.715, 2.715, 0]])),\n",
    "    species=[\"Si\", \"Si\"],\n",
    "    coords=np.array([np.zeros(3), np.ones(3) * 0.25]),\n",
    ")"
   ]
  },
  {
   "cell_type": "code",
   "execution_count": null,
   "id": "3",
   "metadata": {},
   "outputs": [],
   "source": [
    "# Create the geometry file from the structure\n",
    "geo_in = AimsGeometryIn.from_structure(structure)\n",
    "\n",
    "# Create the control.in file\n",
    "cont_in = AimsControlIn(\n",
    "    {\n",
    "        \"xc\": \"pw-lda\",\n",
    "        \"relax_geometry\": \"trm 0.01\",\n",
    "        \"relax_unit_cell\": \"full\",\n",
    "        \"species_dir\": AIMS_SD,\n",
    "    }\n",
    ")\n",
    "\n",
    "# Add new parameters as if AimsControl\n",
    "cont_in[\"k_grid\"] = [1, 1, 1]\n",
    "\n",
    "# Output options to control in automatically append the list\n",
    "cont_in[\"output\"] = \"hirshfeld\"\n",
    "cont_in[\"output\"] = [\"eigenvectors\"]\n",
    "\n",
    "# Cube file output controlled by the AimsCube class\n",
    "cont_in[\"cubes\"] = [\n",
    "    AimsCube(\"total_density\", origin=[0, 0, 0], points=[11, 11, 11]),\n",
    "    AimsCube(\"eigenstate_density 1\", origin=[0, 0, 0], points=[11, 11, 11]),\n",
    "]"
   ]
  },
  {
   "cell_type": "code",
   "execution_count": null,
   "id": "4",
   "metadata": {},
   "outputs": [],
   "source": [
    "# Write the input files\n",
    "work_dir = Path.cwd() / \"workdir/\"\n",
    "work_dir.mkdir(exist_ok=True)\n",
    "\n",
    "geo_in.write_file(work_dir, overwrite=True)\n",
    "cont_in.write_file(structure, work_dir, overwrite=True)"
   ]
  },
  {
   "cell_type": "code",
   "execution_count": null,
   "id": "5",
   "metadata": {},
   "outputs": [],
   "source": [
    "# Run the calculation\n",
    "with open(f\"{work_dir}/{AIMS_OUTPUT}\", \"w\") as outfile:\n",
    "    aims_run = check_call([AIMS_CMD], cwd=work_dir, stdout=outfile)"
   ]
  },
  {
   "cell_type": "code",
   "execution_count": null,
   "id": "6",
   "metadata": {},
   "outputs": [],
   "source": [
    "# Read the aims output file and the final relaxed geometry\n",
    "outputs = AimsOutput.from_outfile(f\"{work_dir}/{AIMS_OUTPUT}\")\n",
    "relaxed_structure = AimsGeometryIn.from_file(f\"{work_dir}/geometry.in.next_step\")\n",
    "\n",
    "# Check the results\n",
    "assert outputs.get_results_for_image(-1).lattice == relaxed_structure.structure.lattice\n",
    "assert_allclose(outputs.get_results_for_image(-1).frac_coords, relaxed_structure.structure.frac_coords)\n",
    "assert_allclose(outputs.get_results_for_image(-1).properties[\"stress\"], outputs.stress)\n",
    "assert_allclose(outputs.get_results_for_image(-1).site_properties[\"force\"], outputs.forces)"
   ]
  }
 ],
 "metadata": {
  "kernelspec": {
   "display_name": "Python 3 (ipykernel)",
   "language": "python",
   "name": "python3"
  },
  "language_info": {
   "codemirror_mode": {
    "name": "ipython",
    "version": 3
   },
   "file_extension": ".py",
   "mimetype": "text/x-python",
   "name": "python",
   "nbconvert_exporter": "python",
   "pygments_lexer": "ipython3",
   "version": "3.11.7"
  }
 },
 "nbformat": 4,
 "nbformat_minor": 5
}
